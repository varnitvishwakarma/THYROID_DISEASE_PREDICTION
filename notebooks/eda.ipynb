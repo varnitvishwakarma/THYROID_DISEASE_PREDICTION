{
 "cells": [
  {
   "cell_type": "code",
   "execution_count": 477,
   "metadata": {},
   "outputs": [
    {
     "data": {
      "text/html": [
       "<div>\n",
       "<style scoped>\n",
       "    .dataframe tbody tr th:only-of-type {\n",
       "        vertical-align: middle;\n",
       "    }\n",
       "\n",
       "    .dataframe tbody tr th {\n",
       "        vertical-align: top;\n",
       "    }\n",
       "\n",
       "    .dataframe thead th {\n",
       "        text-align: right;\n",
       "    }\n",
       "</style>\n",
       "<table border=\"1\" class=\"dataframe\">\n",
       "  <thead>\n",
       "    <tr style=\"text-align: right;\">\n",
       "      <th></th>\n",
       "      <th>hypothyroid</th>\n",
       "      <th>72</th>\n",
       "      <th>M</th>\n",
       "      <th>f</th>\n",
       "      <th>f.1</th>\n",
       "      <th>f.2</th>\n",
       "      <th>f.3</th>\n",
       "      <th>f.4</th>\n",
       "      <th>f.5</th>\n",
       "      <th>f.6</th>\n",
       "      <th>...</th>\n",
       "      <th>y.1</th>\n",
       "      <th>0.60</th>\n",
       "      <th>y.2</th>\n",
       "      <th>15</th>\n",
       "      <th>y.3</th>\n",
       "      <th>1.48</th>\n",
       "      <th>y.4</th>\n",
       "      <th>10</th>\n",
       "      <th>n</th>\n",
       "      <th>?</th>\n",
       "    </tr>\n",
       "  </thead>\n",
       "  <tbody>\n",
       "    <tr>\n",
       "      <th>0</th>\n",
       "      <td>hypothyroid</td>\n",
       "      <td>15</td>\n",
       "      <td>F</td>\n",
       "      <td>t</td>\n",
       "      <td>f</td>\n",
       "      <td>f</td>\n",
       "      <td>f</td>\n",
       "      <td>f</td>\n",
       "      <td>f</td>\n",
       "      <td>f</td>\n",
       "      <td>...</td>\n",
       "      <td>y</td>\n",
       "      <td>1.70</td>\n",
       "      <td>y</td>\n",
       "      <td>19</td>\n",
       "      <td>y</td>\n",
       "      <td>1.13</td>\n",
       "      <td>y</td>\n",
       "      <td>17</td>\n",
       "      <td>n</td>\n",
       "      <td>?</td>\n",
       "    </tr>\n",
       "    <tr>\n",
       "      <th>1</th>\n",
       "      <td>hypothyroid</td>\n",
       "      <td>24</td>\n",
       "      <td>M</td>\n",
       "      <td>f</td>\n",
       "      <td>f</td>\n",
       "      <td>f</td>\n",
       "      <td>f</td>\n",
       "      <td>f</td>\n",
       "      <td>f</td>\n",
       "      <td>f</td>\n",
       "      <td>...</td>\n",
       "      <td>y</td>\n",
       "      <td>0.20</td>\n",
       "      <td>y</td>\n",
       "      <td>4</td>\n",
       "      <td>y</td>\n",
       "      <td>1</td>\n",
       "      <td>y</td>\n",
       "      <td>0</td>\n",
       "      <td>n</td>\n",
       "      <td>?</td>\n",
       "    </tr>\n",
       "    <tr>\n",
       "      <th>2</th>\n",
       "      <td>hypothyroid</td>\n",
       "      <td>24</td>\n",
       "      <td>F</td>\n",
       "      <td>f</td>\n",
       "      <td>f</td>\n",
       "      <td>f</td>\n",
       "      <td>f</td>\n",
       "      <td>f</td>\n",
       "      <td>f</td>\n",
       "      <td>f</td>\n",
       "      <td>...</td>\n",
       "      <td>y</td>\n",
       "      <td>0.40</td>\n",
       "      <td>y</td>\n",
       "      <td>6</td>\n",
       "      <td>y</td>\n",
       "      <td>1.04</td>\n",
       "      <td>y</td>\n",
       "      <td>6</td>\n",
       "      <td>n</td>\n",
       "      <td>?</td>\n",
       "    </tr>\n",
       "    <tr>\n",
       "      <th>3</th>\n",
       "      <td>hypothyroid</td>\n",
       "      <td>77</td>\n",
       "      <td>M</td>\n",
       "      <td>f</td>\n",
       "      <td>f</td>\n",
       "      <td>f</td>\n",
       "      <td>f</td>\n",
       "      <td>f</td>\n",
       "      <td>f</td>\n",
       "      <td>f</td>\n",
       "      <td>...</td>\n",
       "      <td>y</td>\n",
       "      <td>1.20</td>\n",
       "      <td>y</td>\n",
       "      <td>57</td>\n",
       "      <td>y</td>\n",
       "      <td>1.28</td>\n",
       "      <td>y</td>\n",
       "      <td>44</td>\n",
       "      <td>n</td>\n",
       "      <td>?</td>\n",
       "    </tr>\n",
       "    <tr>\n",
       "      <th>4</th>\n",
       "      <td>hypothyroid</td>\n",
       "      <td>85</td>\n",
       "      <td>F</td>\n",
       "      <td>f</td>\n",
       "      <td>f</td>\n",
       "      <td>f</td>\n",
       "      <td>f</td>\n",
       "      <td>t</td>\n",
       "      <td>f</td>\n",
       "      <td>f</td>\n",
       "      <td>...</td>\n",
       "      <td>y</td>\n",
       "      <td>1.10</td>\n",
       "      <td>y</td>\n",
       "      <td>27</td>\n",
       "      <td>y</td>\n",
       "      <td>1.19</td>\n",
       "      <td>y</td>\n",
       "      <td>23</td>\n",
       "      <td>n</td>\n",
       "      <td>?</td>\n",
       "    </tr>\n",
       "  </tbody>\n",
       "</table>\n",
       "<p>5 rows × 26 columns</p>\n",
       "</div>"
      ],
      "text/plain": [
       "   hypothyroid  72  M  f f.1 f.2 f.3 f.4 f.5 f.6  ... y.1  0.60 y.2  15 y.3  \\\n",
       "0  hypothyroid  15  F  t   f   f   f   f   f   f  ...   y  1.70   y  19   y   \n",
       "1  hypothyroid  24  M  f   f   f   f   f   f   f  ...   y  0.20   y   4   y   \n",
       "2  hypothyroid  24  F  f   f   f   f   f   f   f  ...   y  0.40   y   6   y   \n",
       "3  hypothyroid  77  M  f   f   f   f   f   f   f  ...   y  1.20   y  57   y   \n",
       "4  hypothyroid  85  F  f   f   f   f   t   f   f  ...   y  1.10   y  27   y   \n",
       "\n",
       "   1.48 y.4  10  n  ?  \n",
       "0  1.13   y  17  n  ?  \n",
       "1     1   y   0  n  ?  \n",
       "2  1.04   y   6  n  ?  \n",
       "3  1.28   y  44  n  ?  \n",
       "4  1.19   y  23  n  ?  \n",
       "\n",
       "[5 rows x 26 columns]"
      ]
     },
     "execution_count": 477,
     "metadata": {},
     "output_type": "execute_result"
    }
   ],
   "source": [
    "import pandas as pd\n",
    "file_path = r'E:\\ML PROJECTS\\THYROID DISEASE PREDICTION\\notebooks\\data\\hypothyroid.data'\n",
    "\n",
    "df = pd.read_csv(file_path)\n",
    "\n",
    "df.head()  \n"
   ]
  },
  {
   "cell_type": "code",
   "execution_count": 478,
   "metadata": {},
   "outputs": [
    {
     "data": {
      "text/plain": [
       "Index(['hypothyroid', '72', 'M', 'f', 'f.1', 'f.2', 'f.3', 'f.4', 'f.5', 'f.6',\n",
       "       'f.7', 'f.8', 'f.9', 'f.10', 'y', '30', 'y.1', '0.60', 'y.2', '15',\n",
       "       'y.3', '1.48', 'y.4', '10', 'n', '?'],\n",
       "      dtype='object')"
      ]
     },
     "execution_count": 478,
     "metadata": {},
     "output_type": "execute_result"
    }
   ],
   "source": [
    "df.columns"
   ]
  },
  {
   "cell_type": "code",
   "execution_count": 479,
   "metadata": {},
   "outputs": [
    {
     "name": "stdout",
     "output_type": "stream",
     "text": [
      "   hypothyroid  72  M  f f.1 f.2 f.3 f.4 f.5 f.6  ... f.8 f.9 f.10  y    30  \\\n",
      "0  hypothyroid  15  F  t   f   f   f   f   f   f  ...   f   f    f  y   145   \n",
      "1  hypothyroid  24  M  f   f   f   f   f   f   f  ...   f   f    f  y     0   \n",
      "2  hypothyroid  24  F  f   f   f   f   f   f   f  ...   f   f    f  y   430   \n",
      "3  hypothyroid  77  M  f   f   f   f   f   f   f  ...   f   f    f  y  7.30   \n",
      "4  hypothyroid  85  F  f   f   f   f   t   f   f  ...   f   f    f  y   138   \n",
      "\n",
      "  y.1  0.60 y.2  15 y.3  \n",
      "0   y  1.70   y  19   y  \n",
      "1   y  0.20   y   4   y  \n",
      "2   y  0.40   y   6   y  \n",
      "3   y  1.20   y  57   y  \n",
      "4   y  1.10   y  27   y  \n",
      "\n",
      "[5 rows x 21 columns]\n"
     ]
    }
   ],
   "source": [
    "# Define the columns to be removed\n",
    "columns_to_remove = ['1.48', 'y.4', '10', 'n', '?']\n",
    "\n",
    "# Drop the specified columns from the DataFrame\n",
    "df = df.drop(columns_to_remove, axis=1)\n",
    "\n",
    "# Check the resulting DataFrame\n",
    "print(df.head(5))\n"
   ]
  },
  {
   "cell_type": "code",
   "execution_count": 480,
   "metadata": {},
   "outputs": [
    {
     "data": {
      "text/plain": [
       "Index(['hypothyroid', '72', 'M', 'f', 'f.1', 'f.2', 'f.3', 'f.4', 'f.5', 'f.6',\n",
       "       'f.7', 'f.8', 'f.9', 'f.10', 'y', '30', 'y.1', '0.60', 'y.2', '15',\n",
       "       'y.3'],\n",
       "      dtype='object')"
      ]
     },
     "execution_count": 480,
     "metadata": {},
     "output_type": "execute_result"
    }
   ],
   "source": [
    "df.columns"
   ]
  },
  {
   "cell_type": "code",
   "execution_count": 481,
   "metadata": {},
   "outputs": [],
   "source": [
    "column_names = ['Hypothyroid', 'Age', 'Gender', 'Free T4', 'TSH', 'T3', 'TT4', 'FTI', 'TBG', 'Pregnant', 'Referral Source', 'Class', 'Education', 'Diagnosis Age', 'Referral Source 2', 'TSH Measured', 'T3 Measured', 'TT4 Measured', 'FTI Measured', 'TBG Measured', 'Goitre']"
   ]
  },
  {
   "cell_type": "code",
   "execution_count": 482,
   "metadata": {},
   "outputs": [],
   "source": [
    "\n",
    "old_column_names = ['hypothyroid', '72', 'M', 'f', 'f.1', 'f.2', 'f.3', 'f.4', 'f.5', 'f.6', 'f.7', 'f.8', 'f.9', 'f.10', 'y', '30', 'y.1', '0.60', 'y.2', '15', 'y.3']\n",
    "new_column_names = ['Hypothyroid', 'Age', 'Gender', 'Free T4', 'TSH', 'T3', 'TT4', 'FTI', 'TBG', 'Pregnant', 'Referral Source', 'Class', 'Education', 'Diagnosis Age', 'Referral Source 2', 'TSH Measured', 'T3 Measured', 'TT4 Measured', 'FTI Measured', 'TBG Measured', 'Goitre']\n",
    "column_mapping = dict(zip(old_column_names, new_column_names))\n",
    "df = df.rename(columns=column_mapping)\n"
   ]
  },
  {
   "cell_type": "code",
   "execution_count": 483,
   "metadata": {},
   "outputs": [
    {
     "data": {
      "text/html": [
       "<div>\n",
       "<style scoped>\n",
       "    .dataframe tbody tr th:only-of-type {\n",
       "        vertical-align: middle;\n",
       "    }\n",
       "\n",
       "    .dataframe tbody tr th {\n",
       "        vertical-align: top;\n",
       "    }\n",
       "\n",
       "    .dataframe thead th {\n",
       "        text-align: right;\n",
       "    }\n",
       "</style>\n",
       "<table border=\"1\" class=\"dataframe\">\n",
       "  <thead>\n",
       "    <tr style=\"text-align: right;\">\n",
       "      <th></th>\n",
       "      <th>Hypothyroid</th>\n",
       "      <th>Age</th>\n",
       "      <th>Gender</th>\n",
       "      <th>Free T4</th>\n",
       "      <th>TSH</th>\n",
       "      <th>T3</th>\n",
       "      <th>TT4</th>\n",
       "      <th>FTI</th>\n",
       "      <th>TBG</th>\n",
       "      <th>Pregnant</th>\n",
       "      <th>...</th>\n",
       "      <th>Class</th>\n",
       "      <th>Education</th>\n",
       "      <th>Diagnosis Age</th>\n",
       "      <th>Referral Source 2</th>\n",
       "      <th>TSH Measured</th>\n",
       "      <th>T3 Measured</th>\n",
       "      <th>TT4 Measured</th>\n",
       "      <th>FTI Measured</th>\n",
       "      <th>TBG Measured</th>\n",
       "      <th>Goitre</th>\n",
       "    </tr>\n",
       "  </thead>\n",
       "  <tbody>\n",
       "    <tr>\n",
       "      <th>0</th>\n",
       "      <td>hypothyroid</td>\n",
       "      <td>15</td>\n",
       "      <td>F</td>\n",
       "      <td>t</td>\n",
       "      <td>f</td>\n",
       "      <td>f</td>\n",
       "      <td>f</td>\n",
       "      <td>f</td>\n",
       "      <td>f</td>\n",
       "      <td>f</td>\n",
       "      <td>...</td>\n",
       "      <td>f</td>\n",
       "      <td>f</td>\n",
       "      <td>f</td>\n",
       "      <td>y</td>\n",
       "      <td>145</td>\n",
       "      <td>y</td>\n",
       "      <td>1.70</td>\n",
       "      <td>y</td>\n",
       "      <td>19</td>\n",
       "      <td>y</td>\n",
       "    </tr>\n",
       "    <tr>\n",
       "      <th>1</th>\n",
       "      <td>hypothyroid</td>\n",
       "      <td>24</td>\n",
       "      <td>M</td>\n",
       "      <td>f</td>\n",
       "      <td>f</td>\n",
       "      <td>f</td>\n",
       "      <td>f</td>\n",
       "      <td>f</td>\n",
       "      <td>f</td>\n",
       "      <td>f</td>\n",
       "      <td>...</td>\n",
       "      <td>f</td>\n",
       "      <td>f</td>\n",
       "      <td>f</td>\n",
       "      <td>y</td>\n",
       "      <td>0</td>\n",
       "      <td>y</td>\n",
       "      <td>0.20</td>\n",
       "      <td>y</td>\n",
       "      <td>4</td>\n",
       "      <td>y</td>\n",
       "    </tr>\n",
       "    <tr>\n",
       "      <th>2</th>\n",
       "      <td>hypothyroid</td>\n",
       "      <td>24</td>\n",
       "      <td>F</td>\n",
       "      <td>f</td>\n",
       "      <td>f</td>\n",
       "      <td>f</td>\n",
       "      <td>f</td>\n",
       "      <td>f</td>\n",
       "      <td>f</td>\n",
       "      <td>f</td>\n",
       "      <td>...</td>\n",
       "      <td>f</td>\n",
       "      <td>f</td>\n",
       "      <td>f</td>\n",
       "      <td>y</td>\n",
       "      <td>430</td>\n",
       "      <td>y</td>\n",
       "      <td>0.40</td>\n",
       "      <td>y</td>\n",
       "      <td>6</td>\n",
       "      <td>y</td>\n",
       "    </tr>\n",
       "    <tr>\n",
       "      <th>3</th>\n",
       "      <td>hypothyroid</td>\n",
       "      <td>77</td>\n",
       "      <td>M</td>\n",
       "      <td>f</td>\n",
       "      <td>f</td>\n",
       "      <td>f</td>\n",
       "      <td>f</td>\n",
       "      <td>f</td>\n",
       "      <td>f</td>\n",
       "      <td>f</td>\n",
       "      <td>...</td>\n",
       "      <td>f</td>\n",
       "      <td>f</td>\n",
       "      <td>f</td>\n",
       "      <td>y</td>\n",
       "      <td>7.30</td>\n",
       "      <td>y</td>\n",
       "      <td>1.20</td>\n",
       "      <td>y</td>\n",
       "      <td>57</td>\n",
       "      <td>y</td>\n",
       "    </tr>\n",
       "    <tr>\n",
       "      <th>4</th>\n",
       "      <td>hypothyroid</td>\n",
       "      <td>85</td>\n",
       "      <td>F</td>\n",
       "      <td>f</td>\n",
       "      <td>f</td>\n",
       "      <td>f</td>\n",
       "      <td>f</td>\n",
       "      <td>t</td>\n",
       "      <td>f</td>\n",
       "      <td>f</td>\n",
       "      <td>...</td>\n",
       "      <td>f</td>\n",
       "      <td>f</td>\n",
       "      <td>f</td>\n",
       "      <td>y</td>\n",
       "      <td>138</td>\n",
       "      <td>y</td>\n",
       "      <td>1.10</td>\n",
       "      <td>y</td>\n",
       "      <td>27</td>\n",
       "      <td>y</td>\n",
       "    </tr>\n",
       "  </tbody>\n",
       "</table>\n",
       "<p>5 rows × 21 columns</p>\n",
       "</div>"
      ],
      "text/plain": [
       "   Hypothyroid Age Gender Free T4 TSH T3 TT4 FTI TBG Pregnant  ... Class  \\\n",
       "0  hypothyroid  15      F       t   f  f   f   f   f        f  ...     f   \n",
       "1  hypothyroid  24      M       f   f  f   f   f   f        f  ...     f   \n",
       "2  hypothyroid  24      F       f   f  f   f   f   f        f  ...     f   \n",
       "3  hypothyroid  77      M       f   f  f   f   f   f        f  ...     f   \n",
       "4  hypothyroid  85      F       f   f  f   f   t   f        f  ...     f   \n",
       "\n",
       "  Education Diagnosis Age Referral Source 2 TSH Measured T3 Measured  \\\n",
       "0         f             f                 y          145           y   \n",
       "1         f             f                 y            0           y   \n",
       "2         f             f                 y          430           y   \n",
       "3         f             f                 y         7.30           y   \n",
       "4         f             f                 y          138           y   \n",
       "\n",
       "  TT4 Measured FTI Measured TBG Measured Goitre  \n",
       "0         1.70            y           19      y  \n",
       "1         0.20            y            4      y  \n",
       "2         0.40            y            6      y  \n",
       "3         1.20            y           57      y  \n",
       "4         1.10            y           27      y  \n",
       "\n",
       "[5 rows x 21 columns]"
      ]
     },
     "execution_count": 483,
     "metadata": {},
     "output_type": "execute_result"
    }
   ],
   "source": [
    "df.head(5)"
   ]
  },
  {
   "cell_type": "code",
   "execution_count": 484,
   "metadata": {},
   "outputs": [
    {
     "data": {
      "text/plain": [
       "array(['hypothyroid', 'negative'], dtype=object)"
      ]
     },
     "execution_count": 484,
     "metadata": {},
     "output_type": "execute_result"
    }
   ],
   "source": [
    "df[\"Hypothyroid\"].unique()"
   ]
  },
  {
   "cell_type": "code",
   "execution_count": 485,
   "metadata": {},
   "outputs": [],
   "source": [
    "Hypothyroid_map={'negative':0, 'hypothyroid':1}\n",
    "df[\"Hypothyroid\"]=df['Hypothyroid'].map(Hypothyroid_map)"
   ]
  },
  {
   "cell_type": "code",
   "execution_count": 486,
   "metadata": {},
   "outputs": [
    {
     "data": {
      "text/plain": [
       "array(['15', '24', '77', '85', '64', '72', '20', '42', '69', '75', '53',\n",
       "       '59', '68', '50', '78', '65', '28', '43', '40', '84', '?', '83',\n",
       "       '63', '73', '36', '27', '48', '71', '60', '34', '79', '62', '74',\n",
       "       '32', '41', '70', '29', '5', '58', '35', '51', '22', '16', '44',\n",
       "       '39', '47', '18', '17', '88', '56', '30', '45', '66', '52', '54',\n",
       "       '80', '33', '38', '92', '67', '46', '13', '89', '61', '49', '26',\n",
       "       '57', '31', '90', '81', '25', '37', '76', '87', '23', '55', '86',\n",
       "       '98', '21', '97', '1', '6', '14', '82', '11', '19', '9', '12',\n",
       "       '10', '8', '7', '4', '93'], dtype=object)"
      ]
     },
     "execution_count": 486,
     "metadata": {},
     "output_type": "execute_result"
    }
   ],
   "source": [
    "df[\"Age\"].unique()"
   ]
  },
  {
   "cell_type": "code",
   "execution_count": 487,
   "metadata": {},
   "outputs": [
    {
     "data": {
      "text/plain": [
       "array(['F', 'M', '?'], dtype=object)"
      ]
     },
     "execution_count": 487,
     "metadata": {},
     "output_type": "execute_result"
    }
   ],
   "source": [
    "df[\"Gender\"].unique()"
   ]
  },
  {
   "cell_type": "code",
   "execution_count": 488,
   "metadata": {},
   "outputs": [],
   "source": [
    "gender_map={'F':0, 'M':1,'?':2}\n",
    "df[\"Gender\"]=df['Gender'].map(gender_map)"
   ]
  },
  {
   "cell_type": "code",
   "execution_count": 489,
   "metadata": {},
   "outputs": [
    {
     "data": {
      "text/plain": [
       "array(['t', 'f'], dtype=object)"
      ]
     },
     "execution_count": 489,
     "metadata": {},
     "output_type": "execute_result"
    }
   ],
   "source": [
    "df[\"Free T4\"].unique()"
   ]
  },
  {
   "cell_type": "code",
   "execution_count": 490,
   "metadata": {},
   "outputs": [],
   "source": [
    "free_t4={\"t\":1,\"f\":0}\n",
    "df[\"Free T4\"]=df[\"Free T4\"].map(free_t4)"
   ]
  },
  {
   "cell_type": "code",
   "execution_count": 491,
   "metadata": {},
   "outputs": [
    {
     "data": {
      "text/plain": [
       "Index(['Hypothyroid', 'Age', 'Gender', 'Free T4', 'TSH', 'T3', 'TT4', 'FTI',\n",
       "       'TBG', 'Pregnant', 'Referral Source', 'Class', 'Education',\n",
       "       'Diagnosis Age', 'Referral Source 2', 'TSH Measured', 'T3 Measured',\n",
       "       'TT4 Measured', 'FTI Measured', 'TBG Measured', 'Goitre'],\n",
       "      dtype='object')"
      ]
     },
     "execution_count": 491,
     "metadata": {},
     "output_type": "execute_result"
    }
   ],
   "source": [
    "df.columns"
   ]
  },
  {
   "cell_type": "code",
   "execution_count": 492,
   "metadata": {},
   "outputs": [
    {
     "data": {
      "text/plain": [
       "array(['f', 't'], dtype=object)"
      ]
     },
     "execution_count": 492,
     "metadata": {},
     "output_type": "execute_result"
    }
   ],
   "source": [
    "df[\"TSH\"].unique()"
   ]
  },
  {
   "cell_type": "code",
   "execution_count": 493,
   "metadata": {},
   "outputs": [],
   "source": [
    "Tsh={\"t\":1,\"f\":0}\n",
    "df[\"TSH\"]=df[\"TSH\"].map(Tsh)"
   ]
  },
  {
   "cell_type": "code",
   "execution_count": 494,
   "metadata": {},
   "outputs": [
    {
     "data": {
      "text/plain": [
       "array(['f', 't'], dtype=object)"
      ]
     },
     "execution_count": 494,
     "metadata": {},
     "output_type": "execute_result"
    }
   ],
   "source": [
    "df[\"T3\"].unique()"
   ]
  },
  {
   "cell_type": "code",
   "execution_count": 495,
   "metadata": {},
   "outputs": [],
   "source": [
    "t3={\"t\":1,\"f\":0}\n",
    "df[\"T3\"]=df[\"T3\"].map(t3)"
   ]
  },
  {
   "cell_type": "code",
   "execution_count": 496,
   "metadata": {},
   "outputs": [
    {
     "data": {
      "text/plain": [
       "array(['f', 't'], dtype=object)"
      ]
     },
     "execution_count": 496,
     "metadata": {},
     "output_type": "execute_result"
    }
   ],
   "source": [
    "df[\"TT4\"].unique()"
   ]
  },
  {
   "cell_type": "code",
   "execution_count": 497,
   "metadata": {},
   "outputs": [],
   "source": [
    "t3={\"t\":1,\"f\":0}\n",
    "df[\"TT4\"]=df[\"TT4\"].map(t3)"
   ]
  },
  {
   "cell_type": "code",
   "execution_count": 498,
   "metadata": {},
   "outputs": [
    {
     "data": {
      "text/plain": [
       "array(['f', 't'], dtype=object)"
      ]
     },
     "execution_count": 498,
     "metadata": {},
     "output_type": "execute_result"
    }
   ],
   "source": [
    "df[\"FTI\"].unique()"
   ]
  },
  {
   "cell_type": "code",
   "execution_count": 499,
   "metadata": {},
   "outputs": [],
   "source": [
    "t3={\"t\":1,\"f\":0}\n",
    "df[\"FTI\"]=df[\"FTI\"].map(t3)"
   ]
  },
  {
   "cell_type": "code",
   "execution_count": 500,
   "metadata": {},
   "outputs": [
    {
     "data": {
      "text/plain": [
       "array(['f', 't'], dtype=object)"
      ]
     },
     "execution_count": 500,
     "metadata": {},
     "output_type": "execute_result"
    }
   ],
   "source": [
    "df[\"TBG\"].unique()"
   ]
  },
  {
   "cell_type": "code",
   "execution_count": 501,
   "metadata": {},
   "outputs": [],
   "source": [
    "t3={\"t\":1,\"f\":0}\n",
    "df[\"TBG\"]=df[\"TBG\"].map(t3)"
   ]
  },
  {
   "cell_type": "code",
   "execution_count": 502,
   "metadata": {},
   "outputs": [
    {
     "data": {
      "text/plain": [
       "array(['f', 't'], dtype=object)"
      ]
     },
     "execution_count": 502,
     "metadata": {},
     "output_type": "execute_result"
    }
   ],
   "source": [
    "df[\"Pregnant\"].unique()"
   ]
  },
  {
   "cell_type": "code",
   "execution_count": 503,
   "metadata": {},
   "outputs": [],
   "source": [
    "t3={\"t\":1,\"f\":0}\n",
    "df[\"Pregnant\"]=df[\"Pregnant\"].map(t3)\n"
   ]
  },
  {
   "cell_type": "code",
   "execution_count": 504,
   "metadata": {},
   "outputs": [
    {
     "data": {
      "text/plain": [
       "array(['f', 't'], dtype=object)"
      ]
     },
     "execution_count": 504,
     "metadata": {},
     "output_type": "execute_result"
    }
   ],
   "source": [
    "df[\"Referral Source\"].unique()"
   ]
  },
  {
   "cell_type": "code",
   "execution_count": 505,
   "metadata": {},
   "outputs": [],
   "source": [
    "t3={\"t\":1,\"f\":0}\n",
    "df[\"Referral Source\"]=df[\"Referral Source\"].map(t3)"
   ]
  },
  {
   "cell_type": "code",
   "execution_count": 506,
   "metadata": {},
   "outputs": [
    {
     "data": {
      "text/plain": [
       "array(['f', 't'], dtype=object)"
      ]
     },
     "execution_count": 506,
     "metadata": {},
     "output_type": "execute_result"
    }
   ],
   "source": [
    "df[\"Class\"].unique()"
   ]
  },
  {
   "cell_type": "code",
   "execution_count": 507,
   "metadata": {},
   "outputs": [],
   "source": [
    "t3={\"t\":1,\"f\":0}\n",
    "df[\"Class\"]=df[\"Class\"].map(t3)"
   ]
  },
  {
   "cell_type": "code",
   "execution_count": 508,
   "metadata": {},
   "outputs": [
    {
     "data": {
      "text/plain": [
       "array(['f', 't'], dtype=object)"
      ]
     },
     "execution_count": 508,
     "metadata": {},
     "output_type": "execute_result"
    }
   ],
   "source": [
    "df[\"Education\"].unique()"
   ]
  },
  {
   "cell_type": "code",
   "execution_count": 509,
   "metadata": {},
   "outputs": [],
   "source": [
    "t3={\"t\":1,\"f\":0}\n",
    "df[\"Education\"]=df[\"Education\"].map(t3)"
   ]
  },
  {
   "cell_type": "code",
   "execution_count": 510,
   "metadata": {},
   "outputs": [
    {
     "data": {
      "text/plain": [
       "array(['f', 't'], dtype=object)"
      ]
     },
     "execution_count": 510,
     "metadata": {},
     "output_type": "execute_result"
    }
   ],
   "source": [
    "df[\"Diagnosis Age\"].unique()"
   ]
  },
  {
   "cell_type": "code",
   "execution_count": 511,
   "metadata": {},
   "outputs": [],
   "source": [
    "t3={\"t\":1,\"f\":0}\n",
    "df[\"Diagnosis Age\"]=df[\"Diagnosis Age\"].map(t3)"
   ]
  },
  {
   "cell_type": "code",
   "execution_count": 512,
   "metadata": {},
   "outputs": [
    {
     "data": {
      "text/plain": [
       "array(['y', 'n'], dtype=object)"
      ]
     },
     "execution_count": 512,
     "metadata": {},
     "output_type": "execute_result"
    }
   ],
   "source": [
    "df[\"Referral Source 2\"].unique()"
   ]
  },
  {
   "cell_type": "code",
   "execution_count": 513,
   "metadata": {},
   "outputs": [],
   "source": [
    "rs={\"y\":1,\"n\":0}\n",
    "df[\"Referral Source 2\"]=df[\"Referral Source 2\"].map(rs)"
   ]
  },
  {
   "cell_type": "code",
   "execution_count": 514,
   "metadata": {},
   "outputs": [
    {
     "data": {
      "text/plain": [
       "array(['145', '0', '430', '7.30', '138', '7.70', '21', '92', '48', '36',\n",
       "       '15', '15.30', '25', '61', '28', '170', '54', '216', '56', '71',\n",
       "       '46', '70', '34', '53', '9.40', '126', '10', '530', '35', '65',\n",
       "       '57', '125', '30', '23', '80', '117', '49', '66', '8.20', '150',\n",
       "       '?', '18', '165', '164', '24', '90', '77', '19', '58', '100',\n",
       "       '213', '17', '235', '153', '13', '31', '109', '260', '43', '12',\n",
       "       '11', '55', '6.50', '20', '7.50', '14', '60', '140', '33', '8.70',\n",
       "       '0.25', '10.70', '82', '45', '42', '41', '160', '16', '89', '44',\n",
       "       '176', '6.40', '183', '29', '37', '39', '7.90', '59', '68', '38',\n",
       "       '47', '143', '6.60', '288', '96', '0.50', '1.20', '1.90', '0.09',\n",
       "       '3.10', '0.40', '0.85', '0.30', '0.90', '1.50', '4.60', '0.20',\n",
       "       '5.80', '4', '1.40', '2', '2.60', '2.90', '0.80', '4.90', '10.30',\n",
       "       '2.30', '0.70', '0.60', '1.30', '2.50', '5.10', '1.70', '2.70',\n",
       "       '22', '8.10', '3.30', '5', '3.20', '1.80', '1.10', '0.46', '1',\n",
       "       '5.60', '4.40', '16.50', '2.10', '6.30', '5.50', '7.40', '5.90',\n",
       "       '0.15', '14.90', '2.20', '9.70', '9.60', '1.60', '3.70', '3',\n",
       "       '2.80', '0.10', '4.20', '27', '3.50', '0.05', '19.20', '8', '9.10',\n",
       "       '3.60', '7.80', '3.80', '8.50', '9.20', '52', '2.40', '3.90',\n",
       "       '0.03', '0.04', '26', '6.10', '0.65', '0.92', '7.60', '8.40',\n",
       "       '14.40', '1.05', '0.37', '178', '6.90', '4.50', '4.70', '40', '6',\n",
       "       '4.10', '14.30', '5.40', '8.30', '0.06', '8.80', '8.90', '7.10',\n",
       "       '4.80', '0.43', '6.70', '200', '8.60', '86', '0.21', '9', '0.26',\n",
       "       '3.40', '6.20', '17.40', '85', '1.83', '63', '13.30', '0.02',\n",
       "       '0.42', '9.50', '0.84', '0.88', '4.30', '0.67', '0.81', '5.20',\n",
       "       '9.80', '76', '0.62', '0.01', '11.40', '88', '0.68', '0.07',\n",
       "       '0.69', '0.77', '9.90', '0.64', '13.20', '6.80', '0.28', '11.60',\n",
       "       '0.91', '1.01', '0.23', '0.35', '50', '32', '0.83', '0.08'],\n",
       "      dtype=object)"
      ]
     },
     "execution_count": 514,
     "metadata": {},
     "output_type": "execute_result"
    }
   ],
   "source": [
    "df[\"TSH Measured\"].unique()"
   ]
  },
  {
   "cell_type": "code",
   "execution_count": 515,
   "metadata": {},
   "outputs": [
    {
     "data": {
      "text/plain": [
       "array(['y', 'n'], dtype=object)"
      ]
     },
     "execution_count": 515,
     "metadata": {},
     "output_type": "execute_result"
    }
   ],
   "source": [
    "df[\"T3 Measured\"].unique()"
   ]
  },
  {
   "cell_type": "code",
   "execution_count": 516,
   "metadata": {},
   "outputs": [],
   "source": [
    "rs={\"y\":1,\"n\":0}\n",
    "df[\"T3 Measured\"]=df[\"T3 Measured\"].map(rs)"
   ]
  },
  {
   "cell_type": "code",
   "execution_count": 517,
   "metadata": {},
   "outputs": [
    {
     "data": {
      "text/plain": [
       "array(['1.70', '0.20', '0.40', '1.20', '1.10', '1.30', '1.90', '?',\n",
       "       '0.80', '2.20', '1.50', '2.70', '2', '0.30', '2.10', '0.60',\n",
       "       '0.50', '0.70', '1', '1.40', '2.30', '2.40', '0.90', '1.80', '0',\n",
       "       '2.80', '1.60', '6.70', '3.30', '3', '2.50', '2.60', '4', '9.80',\n",
       "       '3.90', '3.40', '3.80', '4.50', '3.20', '3.70', '4.30', '2.90',\n",
       "       '3.10', '3.50', '3.60', '6.60', '4.90', '8.90', '4.10', '5',\n",
       "       '5.30', '7.60', '7.30', '4.20', '4.40', '5.10', '7', '0.10',\n",
       "       '0.05', '4.70', '6.20', '5.50', '4.60', '6.10', '8.10', '5.20',\n",
       "       '5.60', '4.80', '10.20', '8.60'], dtype=object)"
      ]
     },
     "execution_count": 517,
     "metadata": {},
     "output_type": "execute_result"
    }
   ],
   "source": [
    "df[\"TT4 Measured\"].unique()"
   ]
  },
  {
   "cell_type": "code",
   "execution_count": 518,
   "metadata": {},
   "outputs": [
    {
     "data": {
      "text/plain": [
       "array(['y', 'n'], dtype=object)"
      ]
     },
     "execution_count": 518,
     "metadata": {},
     "output_type": "execute_result"
    }
   ],
   "source": [
    "df[\"FTI Measured\"].unique()"
   ]
  },
  {
   "cell_type": "code",
   "execution_count": 519,
   "metadata": {},
   "outputs": [],
   "source": [
    "rs={\"y\":1,\"n\":0}\n",
    "df[\"FTI Measured\"]=df[\"FTI Measured\"].map(rs)"
   ]
  },
  {
   "cell_type": "code",
   "execution_count": 520,
   "metadata": {},
   "outputs": [
    {
     "data": {
      "text/plain": [
       "array(['19', '4', '6', '57', '27', '54', '34', '39', '7.60', '53', '38',\n",
       "       '98', '44', '37', '81', '13', '17', '12', '50', '23', '14', '3.90',\n",
       "       '52', '32', '30', '84', '10', '55', '24', '28', '11', '6.60', '31',\n",
       "       '33', '41', '9', '78', '42', '8.10', '65', '16', '9.70', '46',\n",
       "       '22', '61', '2.30', '21', '7.50', '18', '66', '25', '43', '2', '3',\n",
       "       '58', '59', '71', '74', '56', '40', '20', '48', '230', '70',\n",
       "       '4.10', '63', '5.30', '2.90', '62', '75', '68', '15', '45', '47',\n",
       "       '36', '80', '109', '8.60', '83', '82', '101', '76', '103', '112',\n",
       "       '206', '110', '93', '79', '121', '?', '107', '88', '187', '254',\n",
       "       '115', '113', '260', '117', '164', '97', '64', '129', '111', '106',\n",
       "       '95', '87', '105', '90', '67', '134', '35', '193', '143', '130',\n",
       "       '108', '86', '96', '92', '99', '216', '152', '125', '138', '194',\n",
       "       '91', '120', '102', '170', '126', '116', '140', '94', '159', '85',\n",
       "       '210', '89', '151', '247', '139', '153', '178', '123', '137',\n",
       "       '161', '7.30', '72', '202', '122', '124', '157', '118', '104',\n",
       "       '135', '186', '241', '131', '119', '100', '220', '176', '136',\n",
       "       '183', '155', '208', '199', '154', '169', '128', '235', '195',\n",
       "       '267', '232', '197', '212', '149', '127', '245', '132', '162',\n",
       "       '77', '142', '69', '173', '141', '156', '181', '189', '60', '114',\n",
       "       '198', '147', '191', '177', '174', '207', '168', '73', '160',\n",
       "       '145', '200', '182', '158', '203', '209', '217', '430', '213',\n",
       "       '218', '163', '296', '167', '148', '166', '185', '248', '172',\n",
       "       '144', '150', '165', '196', '308', '146', '426', '224', '29',\n",
       "       '204', '201', '133', '180', '184', '450', '244', '301', '255',\n",
       "       '252', '396', '223', '261', '250', '179', '219', '190', '51',\n",
       "       '221', '171', '242', '275', '211', '49', '239', '205', '222',\n",
       "       '256', '214', '282', '287', '253', '269', '175', '228', '333',\n",
       "       '258', '236', '225', '263', '283', '359', '188', '240'],\n",
       "      dtype=object)"
      ]
     },
     "execution_count": 520,
     "metadata": {},
     "output_type": "execute_result"
    }
   ],
   "source": [
    "df[\"TBG Measured\"].unique()"
   ]
  },
  {
   "cell_type": "code",
   "execution_count": 521,
   "metadata": {},
   "outputs": [
    {
     "data": {
      "text/plain": [
       "array(['y', 'n'], dtype=object)"
      ]
     },
     "execution_count": 521,
     "metadata": {},
     "output_type": "execute_result"
    }
   ],
   "source": [
    "df[\"Goitre\"].unique()"
   ]
  },
  {
   "cell_type": "code",
   "execution_count": 522,
   "metadata": {},
   "outputs": [],
   "source": [
    "rs={\"y\":1,\"n\":0}\n",
    "df[\"Goitre\"]=df[\"Goitre\"].map(rs)"
   ]
  },
  {
   "cell_type": "code",
   "execution_count": 523,
   "metadata": {},
   "outputs": [
    {
     "data": {
      "text/html": [
       "<div>\n",
       "<style scoped>\n",
       "    .dataframe tbody tr th:only-of-type {\n",
       "        vertical-align: middle;\n",
       "    }\n",
       "\n",
       "    .dataframe tbody tr th {\n",
       "        vertical-align: top;\n",
       "    }\n",
       "\n",
       "    .dataframe thead th {\n",
       "        text-align: right;\n",
       "    }\n",
       "</style>\n",
       "<table border=\"1\" class=\"dataframe\">\n",
       "  <thead>\n",
       "    <tr style=\"text-align: right;\">\n",
       "      <th></th>\n",
       "      <th>Hypothyroid</th>\n",
       "      <th>Age</th>\n",
       "      <th>Gender</th>\n",
       "      <th>Free T4</th>\n",
       "      <th>TSH</th>\n",
       "      <th>T3</th>\n",
       "      <th>TT4</th>\n",
       "      <th>FTI</th>\n",
       "      <th>TBG</th>\n",
       "      <th>Pregnant</th>\n",
       "      <th>...</th>\n",
       "      <th>Class</th>\n",
       "      <th>Education</th>\n",
       "      <th>Diagnosis Age</th>\n",
       "      <th>Referral Source 2</th>\n",
       "      <th>TSH Measured</th>\n",
       "      <th>T3 Measured</th>\n",
       "      <th>TT4 Measured</th>\n",
       "      <th>FTI Measured</th>\n",
       "      <th>TBG Measured</th>\n",
       "      <th>Goitre</th>\n",
       "    </tr>\n",
       "  </thead>\n",
       "  <tbody>\n",
       "    <tr>\n",
       "      <th>0</th>\n",
       "      <td>1</td>\n",
       "      <td>15</td>\n",
       "      <td>0</td>\n",
       "      <td>1</td>\n",
       "      <td>0</td>\n",
       "      <td>0</td>\n",
       "      <td>0</td>\n",
       "      <td>0</td>\n",
       "      <td>0</td>\n",
       "      <td>0</td>\n",
       "      <td>...</td>\n",
       "      <td>0</td>\n",
       "      <td>0</td>\n",
       "      <td>0</td>\n",
       "      <td>1</td>\n",
       "      <td>145</td>\n",
       "      <td>1</td>\n",
       "      <td>1.70</td>\n",
       "      <td>1</td>\n",
       "      <td>19</td>\n",
       "      <td>1</td>\n",
       "    </tr>\n",
       "    <tr>\n",
       "      <th>1</th>\n",
       "      <td>1</td>\n",
       "      <td>24</td>\n",
       "      <td>1</td>\n",
       "      <td>0</td>\n",
       "      <td>0</td>\n",
       "      <td>0</td>\n",
       "      <td>0</td>\n",
       "      <td>0</td>\n",
       "      <td>0</td>\n",
       "      <td>0</td>\n",
       "      <td>...</td>\n",
       "      <td>0</td>\n",
       "      <td>0</td>\n",
       "      <td>0</td>\n",
       "      <td>1</td>\n",
       "      <td>0</td>\n",
       "      <td>1</td>\n",
       "      <td>0.20</td>\n",
       "      <td>1</td>\n",
       "      <td>4</td>\n",
       "      <td>1</td>\n",
       "    </tr>\n",
       "    <tr>\n",
       "      <th>2</th>\n",
       "      <td>1</td>\n",
       "      <td>24</td>\n",
       "      <td>0</td>\n",
       "      <td>0</td>\n",
       "      <td>0</td>\n",
       "      <td>0</td>\n",
       "      <td>0</td>\n",
       "      <td>0</td>\n",
       "      <td>0</td>\n",
       "      <td>0</td>\n",
       "      <td>...</td>\n",
       "      <td>0</td>\n",
       "      <td>0</td>\n",
       "      <td>0</td>\n",
       "      <td>1</td>\n",
       "      <td>430</td>\n",
       "      <td>1</td>\n",
       "      <td>0.40</td>\n",
       "      <td>1</td>\n",
       "      <td>6</td>\n",
       "      <td>1</td>\n",
       "    </tr>\n",
       "    <tr>\n",
       "      <th>3</th>\n",
       "      <td>1</td>\n",
       "      <td>77</td>\n",
       "      <td>1</td>\n",
       "      <td>0</td>\n",
       "      <td>0</td>\n",
       "      <td>0</td>\n",
       "      <td>0</td>\n",
       "      <td>0</td>\n",
       "      <td>0</td>\n",
       "      <td>0</td>\n",
       "      <td>...</td>\n",
       "      <td>0</td>\n",
       "      <td>0</td>\n",
       "      <td>0</td>\n",
       "      <td>1</td>\n",
       "      <td>7.30</td>\n",
       "      <td>1</td>\n",
       "      <td>1.20</td>\n",
       "      <td>1</td>\n",
       "      <td>57</td>\n",
       "      <td>1</td>\n",
       "    </tr>\n",
       "    <tr>\n",
       "      <th>4</th>\n",
       "      <td>1</td>\n",
       "      <td>85</td>\n",
       "      <td>0</td>\n",
       "      <td>0</td>\n",
       "      <td>0</td>\n",
       "      <td>0</td>\n",
       "      <td>0</td>\n",
       "      <td>1</td>\n",
       "      <td>0</td>\n",
       "      <td>0</td>\n",
       "      <td>...</td>\n",
       "      <td>0</td>\n",
       "      <td>0</td>\n",
       "      <td>0</td>\n",
       "      <td>1</td>\n",
       "      <td>138</td>\n",
       "      <td>1</td>\n",
       "      <td>1.10</td>\n",
       "      <td>1</td>\n",
       "      <td>27</td>\n",
       "      <td>1</td>\n",
       "    </tr>\n",
       "  </tbody>\n",
       "</table>\n",
       "<p>5 rows × 21 columns</p>\n",
       "</div>"
      ],
      "text/plain": [
       "   Hypothyroid Age  Gender  Free T4  TSH  T3  TT4  FTI  TBG  Pregnant  ...  \\\n",
       "0            1  15       0        1    0   0    0    0    0         0  ...   \n",
       "1            1  24       1        0    0   0    0    0    0         0  ...   \n",
       "2            1  24       0        0    0   0    0    0    0         0  ...   \n",
       "3            1  77       1        0    0   0    0    0    0         0  ...   \n",
       "4            1  85       0        0    0   0    0    1    0         0  ...   \n",
       "\n",
       "   Class  Education  Diagnosis Age  Referral Source 2  TSH Measured  \\\n",
       "0      0          0              0                  1           145   \n",
       "1      0          0              0                  1             0   \n",
       "2      0          0              0                  1           430   \n",
       "3      0          0              0                  1          7.30   \n",
       "4      0          0              0                  1           138   \n",
       "\n",
       "  T3 Measured  TT4 Measured FTI Measured  TBG Measured Goitre  \n",
       "0           1          1.70            1            19      1  \n",
       "1           1          0.20            1             4      1  \n",
       "2           1          0.40            1             6      1  \n",
       "3           1          1.20            1            57      1  \n",
       "4           1          1.10            1            27      1  \n",
       "\n",
       "[5 rows x 21 columns]"
      ]
     },
     "execution_count": 523,
     "metadata": {},
     "output_type": "execute_result"
    }
   ],
   "source": [
    "df.head()"
   ]
  },
  {
   "cell_type": "code",
   "execution_count": 524,
   "metadata": {},
   "outputs": [
    {
     "data": {
      "text/plain": [
       "Hypothyroid           int64\n",
       "Age                  object\n",
       "Gender                int64\n",
       "Free T4               int64\n",
       "TSH                   int64\n",
       "T3                    int64\n",
       "TT4                   int64\n",
       "FTI                   int64\n",
       "TBG                   int64\n",
       "Pregnant              int64\n",
       "Referral Source       int64\n",
       "Class                 int64\n",
       "Education             int64\n",
       "Diagnosis Age         int64\n",
       "Referral Source 2     int64\n",
       "TSH Measured         object\n",
       "T3 Measured           int64\n",
       "TT4 Measured         object\n",
       "FTI Measured          int64\n",
       "TBG Measured         object\n",
       "Goitre                int64\n",
       "dtype: object"
      ]
     },
     "execution_count": 524,
     "metadata": {},
     "output_type": "execute_result"
    }
   ],
   "source": [
    "df.dtypes"
   ]
  },
  {
   "cell_type": "code",
   "execution_count": 525,
   "metadata": {},
   "outputs": [],
   "source": [
    "import numpy as np\n",
    "\n",
    "df[\"Age\"] = df[\"Age\"].replace('?',48.5)\n",
    "df[\"TT4 Measured\"] = df[\"TT4 Measured\"].replace('?',3.5)\n",
    "df[\"TSH Measured\"] = df[\"TSH Measured\"].replace('?',36.8)\n",
    "df[\"TBG Measured\"] = df[\"TBG Measured\"].replace('?',133)\n"
   ]
  },
  {
   "cell_type": "code",
   "execution_count": 526,
   "metadata": {},
   "outputs": [
    {
     "data": {
      "text/plain": [
       "Hypothyroid           int64\n",
       "Age                  object\n",
       "Gender                int64\n",
       "Free T4               int64\n",
       "TSH                   int64\n",
       "T3                    int64\n",
       "TT4                   int64\n",
       "FTI                   int64\n",
       "TBG                   int64\n",
       "Pregnant              int64\n",
       "Referral Source       int64\n",
       "Class                 int64\n",
       "Education             int64\n",
       "Diagnosis Age         int64\n",
       "Referral Source 2     int64\n",
       "TSH Measured         object\n",
       "T3 Measured           int64\n",
       "TT4 Measured         object\n",
       "FTI Measured          int64\n",
       "TBG Measured         object\n",
       "Goitre                int64\n",
       "dtype: object"
      ]
     },
     "execution_count": 526,
     "metadata": {},
     "output_type": "execute_result"
    }
   ],
   "source": [
    "df.dtypes"
   ]
  },
  {
   "cell_type": "code",
   "execution_count": 527,
   "metadata": {},
   "outputs": [],
   "source": [
    "# Specify the columns to convert to integer\n",
    "columns_to_convert = ['Age','TSH Measured','TT4 Measured','TBG Measured']"
   ]
  },
  {
   "cell_type": "code",
   "execution_count": 528,
   "metadata": {},
   "outputs": [],
   "source": [
    "df[\"Age\"]=df[\"Age\"].astype(int)"
   ]
  },
  {
   "cell_type": "code",
   "execution_count": 529,
   "metadata": {},
   "outputs": [
    {
     "data": {
      "text/plain": [
       "Hypothyroid           int64\n",
       "Age                   int32\n",
       "Gender                int64\n",
       "Free T4               int64\n",
       "TSH                   int64\n",
       "T3                    int64\n",
       "TT4                   int64\n",
       "FTI                   int64\n",
       "TBG                   int64\n",
       "Pregnant              int64\n",
       "Referral Source       int64\n",
       "Class                 int64\n",
       "Education             int64\n",
       "Diagnosis Age         int64\n",
       "Referral Source 2     int64\n",
       "TSH Measured         object\n",
       "T3 Measured           int64\n",
       "TT4 Measured         object\n",
       "FTI Measured          int64\n",
       "TBG Measured         object\n",
       "Goitre                int64\n",
       "dtype: object"
      ]
     },
     "execution_count": 529,
     "metadata": {},
     "output_type": "execute_result"
    }
   ],
   "source": [
    "\n",
    "df.dtypes"
   ]
  },
  {
   "cell_type": "code",
   "execution_count": 530,
   "metadata": {},
   "outputs": [],
   "source": [
    "# Define the columns to be removed\n",
    "columns_to_remove = ['TSH Measured','TT4 Measured','TBG Measured','Referral Source','Education','Class','Referral Source',\"Diagnosis Age\",\"Referral Source 2\",]\n",
    "\n",
    "# Drop the specified columns from the DataFrame\n",
    "df = df.drop(columns_to_remove, axis=1)"
   ]
  },
  {
   "cell_type": "code",
   "execution_count": 531,
   "metadata": {},
   "outputs": [
    {
     "data": {
      "text/html": [
       "<div>\n",
       "<style scoped>\n",
       "    .dataframe tbody tr th:only-of-type {\n",
       "        vertical-align: middle;\n",
       "    }\n",
       "\n",
       "    .dataframe tbody tr th {\n",
       "        vertical-align: top;\n",
       "    }\n",
       "\n",
       "    .dataframe thead th {\n",
       "        text-align: right;\n",
       "    }\n",
       "</style>\n",
       "<table border=\"1\" class=\"dataframe\">\n",
       "  <thead>\n",
       "    <tr style=\"text-align: right;\">\n",
       "      <th></th>\n",
       "      <th>Hypothyroid</th>\n",
       "      <th>Age</th>\n",
       "      <th>Gender</th>\n",
       "      <th>Free T4</th>\n",
       "      <th>TSH</th>\n",
       "      <th>T3</th>\n",
       "      <th>TT4</th>\n",
       "      <th>FTI</th>\n",
       "      <th>TBG</th>\n",
       "      <th>Pregnant</th>\n",
       "      <th>T3 Measured</th>\n",
       "      <th>FTI Measured</th>\n",
       "      <th>Goitre</th>\n",
       "    </tr>\n",
       "  </thead>\n",
       "  <tbody>\n",
       "    <tr>\n",
       "      <th>0</th>\n",
       "      <td>1</td>\n",
       "      <td>15</td>\n",
       "      <td>0</td>\n",
       "      <td>1</td>\n",
       "      <td>0</td>\n",
       "      <td>0</td>\n",
       "      <td>0</td>\n",
       "      <td>0</td>\n",
       "      <td>0</td>\n",
       "      <td>0</td>\n",
       "      <td>1</td>\n",
       "      <td>1</td>\n",
       "      <td>1</td>\n",
       "    </tr>\n",
       "    <tr>\n",
       "      <th>1</th>\n",
       "      <td>1</td>\n",
       "      <td>24</td>\n",
       "      <td>1</td>\n",
       "      <td>0</td>\n",
       "      <td>0</td>\n",
       "      <td>0</td>\n",
       "      <td>0</td>\n",
       "      <td>0</td>\n",
       "      <td>0</td>\n",
       "      <td>0</td>\n",
       "      <td>1</td>\n",
       "      <td>1</td>\n",
       "      <td>1</td>\n",
       "    </tr>\n",
       "    <tr>\n",
       "      <th>2</th>\n",
       "      <td>1</td>\n",
       "      <td>24</td>\n",
       "      <td>0</td>\n",
       "      <td>0</td>\n",
       "      <td>0</td>\n",
       "      <td>0</td>\n",
       "      <td>0</td>\n",
       "      <td>0</td>\n",
       "      <td>0</td>\n",
       "      <td>0</td>\n",
       "      <td>1</td>\n",
       "      <td>1</td>\n",
       "      <td>1</td>\n",
       "    </tr>\n",
       "    <tr>\n",
       "      <th>3</th>\n",
       "      <td>1</td>\n",
       "      <td>77</td>\n",
       "      <td>1</td>\n",
       "      <td>0</td>\n",
       "      <td>0</td>\n",
       "      <td>0</td>\n",
       "      <td>0</td>\n",
       "      <td>0</td>\n",
       "      <td>0</td>\n",
       "      <td>0</td>\n",
       "      <td>1</td>\n",
       "      <td>1</td>\n",
       "      <td>1</td>\n",
       "    </tr>\n",
       "    <tr>\n",
       "      <th>4</th>\n",
       "      <td>1</td>\n",
       "      <td>85</td>\n",
       "      <td>0</td>\n",
       "      <td>0</td>\n",
       "      <td>0</td>\n",
       "      <td>0</td>\n",
       "      <td>0</td>\n",
       "      <td>1</td>\n",
       "      <td>0</td>\n",
       "      <td>0</td>\n",
       "      <td>1</td>\n",
       "      <td>1</td>\n",
       "      <td>1</td>\n",
       "    </tr>\n",
       "  </tbody>\n",
       "</table>\n",
       "</div>"
      ],
      "text/plain": [
       "   Hypothyroid  Age  Gender  Free T4  TSH  T3  TT4  FTI  TBG  Pregnant  \\\n",
       "0            1   15       0        1    0   0    0    0    0         0   \n",
       "1            1   24       1        0    0   0    0    0    0         0   \n",
       "2            1   24       0        0    0   0    0    0    0         0   \n",
       "3            1   77       1        0    0   0    0    0    0         0   \n",
       "4            1   85       0        0    0   0    0    1    0         0   \n",
       "\n",
       "   T3 Measured  FTI Measured  Goitre  \n",
       "0            1             1       1  \n",
       "1            1             1       1  \n",
       "2            1             1       1  \n",
       "3            1             1       1  \n",
       "4            1             1       1  "
      ]
     },
     "execution_count": 531,
     "metadata": {},
     "output_type": "execute_result"
    }
   ],
   "source": [
    "df.head(5)"
   ]
  },
  {
   "cell_type": "code",
   "execution_count": 533,
   "metadata": {},
   "outputs": [],
   "source": [
    "df.to_csv(\"data_updated.csv\")"
   ]
  },
  {
   "cell_type": "code",
   "execution_count": null,
   "metadata": {},
   "outputs": [],
   "source": []
  },
  {
   "cell_type": "code",
   "execution_count": null,
   "metadata": {},
   "outputs": [],
   "source": []
  },
  {
   "cell_type": "code",
   "execution_count": null,
   "metadata": {},
   "outputs": [],
   "source": []
  },
  {
   "cell_type": "code",
   "execution_count": null,
   "metadata": {},
   "outputs": [],
   "source": []
  }
 ],
 "metadata": {
  "kernelspec": {
   "display_name": "Python 3",
   "language": "python",
   "name": "python3"
  },
  "language_info": {
   "codemirror_mode": {
    "name": "ipython",
    "version": 3
   },
   "file_extension": ".py",
   "mimetype": "text/x-python",
   "name": "python",
   "nbconvert_exporter": "python",
   "pygments_lexer": "ipython3",
   "version": "3.8.19"
  }
 },
 "nbformat": 4,
 "nbformat_minor": 2
}
